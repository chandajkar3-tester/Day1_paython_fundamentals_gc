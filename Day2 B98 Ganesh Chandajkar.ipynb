{
 "cells": [
  {
   "cell_type": "code",
   "execution_count": null,
   "id": "1630a218",
   "metadata": {},
   "outputs": [],
   "source": [
    "Understanding the python variables"
   ]
  },
  {
   "cell_type": "code",
   "execution_count": 9,
   "id": "1a06164b",
   "metadata": {},
   "outputs": [
    {
     "name": "stdout",
     "output_type": "stream",
     "text": [
      "5\n"
     ]
    }
   ],
   "source": [
    "a = 2\n",
    "b = 3\n",
    "\n",
    "c = a+b\n",
    "\n",
    "print(c)"
   ]
  },
  {
   "cell_type": "code",
   "execution_count": 11,
   "id": "3dc98b3b",
   "metadata": {},
   "outputs": [],
   "source": [
    "#Declaroing variables in python"
   ]
  },
  {
   "cell_type": "code",
   "execution_count": 14,
   "id": "3d2b479a",
   "metadata": {},
   "outputs": [
    {
     "name": "stdout",
     "output_type": "stream",
     "text": [
      "Ganesh\n"
     ]
    }
   ],
   "source": [
    "firstname = 'Ganesh'\n",
    "\n",
    "print(firstname)"
   ]
  },
  {
   "cell_type": "code",
   "execution_count": 16,
   "id": "ca78c933",
   "metadata": {},
   "outputs": [
    {
     "name": "stdout",
     "output_type": "stream",
     "text": [
      "Py-001 Py-002\n"
     ]
    }
   ],
   "source": [
    "orgid1= 'Py-001'\n",
    "orgid2 = 'Py-002'\n",
    "\n",
    "print(orgid1, orgid2)"
   ]
  },
  {
   "cell_type": "code",
   "execution_count": 19,
   "id": "06a346a4",
   "metadata": {},
   "outputs": [
    {
     "name": "stdout",
     "output_type": "stream",
     "text": [
      "Ganesh\n"
     ]
    }
   ],
   "source": [
    "coder_py = \"Ganesh\"\n",
    "\n",
    "print(coder_py)"
   ]
  },
  {
   "cell_type": "code",
   "execution_count": null,
   "id": "0553f6f6",
   "metadata": {},
   "outputs": [],
   "source": []
  }
 ],
 "metadata": {
  "kernelspec": {
   "display_name": "Python 3 (ipykernel)",
   "language": "python",
   "name": "python3"
  },
  "language_info": {
   "codemirror_mode": {
    "name": "ipython",
    "version": 3
   },
   "file_extension": ".py",
   "mimetype": "text/x-python",
   "name": "python",
   "nbconvert_exporter": "python",
   "pygments_lexer": "ipython3",
   "version": "3.9.13"
  }
 },
 "nbformat": 4,
 "nbformat_minor": 5
}
