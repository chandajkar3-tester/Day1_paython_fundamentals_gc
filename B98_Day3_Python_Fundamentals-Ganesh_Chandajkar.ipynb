{
 "cells": [
  {
   "cell_type": "code",
   "execution_count": 1,
   "id": "8d426333",
   "metadata": {},
   "outputs": [],
   "source": [
    "#methods of python"
   ]
  },
  {
   "cell_type": "code",
   "execution_count": 2,
   "id": "fc41a9de",
   "metadata": {},
   "outputs": [
    {
     "name": "stdout",
     "output_type": "stream",
     "text": [
      "ganesh chandajkar\n"
     ]
    }
   ],
   "source": [
    "fullname = 'ganesh chandajkar'\n",
    "\n",
    "print (fullname)"
   ]
  },
  {
   "cell_type": "code",
   "execution_count": 3,
   "id": "4fc1205f",
   "metadata": {},
   "outputs": [
    {
     "name": "stdout",
     "output_type": "stream",
     "text": [
      "Ganesh Chandajkar\n"
     ]
    }
   ],
   "source": [
    "print (fullname.title())"
   ]
  },
  {
   "cell_type": "code",
   "execution_count": 4,
   "id": "df5c2680",
   "metadata": {},
   "outputs": [
    {
     "name": "stdout",
     "output_type": "stream",
     "text": [
      "GANESH CHANDAJKAR\n"
     ]
    }
   ],
   "source": [
    "print (fullname.upper())"
   ]
  },
  {
   "cell_type": "code",
   "execution_count": 6,
   "id": "ac177fba",
   "metadata": {},
   "outputs": [
    {
     "name": "stdout",
     "output_type": "stream",
     "text": [
      "ganesh chandajkar\n"
     ]
    }
   ],
   "source": [
    "print (fullname.lower())"
   ]
  },
  {
   "cell_type": "code",
   "execution_count": 7,
   "id": "3e7783c7",
   "metadata": {},
   "outputs": [],
   "source": [
    "#Introduction to f strings"
   ]
  },
  {
   "cell_type": "code",
   "execution_count": 9,
   "id": "a9e445e9",
   "metadata": {},
   "outputs": [
    {
     "name": "stdout",
     "output_type": "stream",
     "text": [
      "ganesh chandajkar\n"
     ]
    }
   ],
   "source": [
    "firstname = 'ganesh'\n",
    "lastname = 'chandajkar'\n",
    "\n",
    "fullname = f\"{firstname} {lastname}\"\n",
    "\n",
    "print (fullname)"
   ]
  },
  {
   "cell_type": "code",
   "execution_count": 14,
   "id": "7a4c2c20",
   "metadata": {},
   "outputs": [
    {
     "name": "stdout",
     "output_type": "stream",
     "text": [
      "Keep up the the good work, Ganesh Chandajkar\n"
     ]
    }
   ],
   "source": [
    "message = f\"Keep up the the good work, {fullname.title()}\"\n",
    "\n",
    "print (message)"
   ]
  },
  {
   "cell_type": "code",
   "execution_count": 15,
   "id": "59ac285d",
   "metadata": {},
   "outputs": [],
   "source": [
    "#addting whitespaces and usage of \\n, \\t"
   ]
  },
  {
   "cell_type": "code",
   "execution_count": 16,
   "id": "c2a87837",
   "metadata": {},
   "outputs": [],
   "source": [
    "#example of \\n"
   ]
  },
  {
   "cell_type": "code",
   "execution_count": 18,
   "id": "cb0001be",
   "metadata": {},
   "outputs": [
    {
     "name": "stdout",
     "output_type": "stream",
     "text": [
      "monthly_bills:milkveggiesgroceryeletricityhomeloancreditcardmaidmedicines\n"
     ]
    }
   ],
   "source": [
    "print ('monthly_bills:milkveggiesgroceryeletricityhomeloancreditcardmaidmedicines')"
   ]
  },
  {
   "cell_type": "code",
   "execution_count": 24,
   "id": "3fcd8935",
   "metadata": {},
   "outputs": [
    {
     "name": "stdout",
     "output_type": "stream",
     "text": [
      "monthly_bills:\n",
      "milk\n",
      "veggies\n",
      "grocery\n",
      "eletricity\n",
      "homeloan\n",
      "creditcard\n",
      "maid\n",
      "medicines\n"
     ]
    }
   ],
   "source": [
    "print ('monthly_bills:\\nmilk\\nveggies\\ngrocery\\neletricity\\nhomeloan\\ncreditcard\\nmaid\\nmedicines')"
   ]
  },
  {
   "cell_type": "code",
   "execution_count": 21,
   "id": "ddf07fa8",
   "metadata": {},
   "outputs": [],
   "source": [
    "#example of \\t"
   ]
  },
  {
   "cell_type": "code",
   "execution_count": 25,
   "id": "a845d26f",
   "metadata": {},
   "outputs": [
    {
     "name": "stdout",
     "output_type": "stream",
     "text": [
      "monthly_bills:\n",
      "\tmilk\n",
      "\tveggies\n",
      "\tgrocery\n",
      "\teletricity\n",
      "\thomeloan\n",
      "\tcreditcard\n",
      "\tmaid\n",
      "\tmedicines\n"
     ]
    }
   ],
   "source": [
    "print ('monthly_bills:\\n\\tmilk\\n\\tveggies\\n\\tgrocery\\n\\teletricity\\n\\thomeloan\\n\\tcreditcard\\n\\tmaid\\n\\tmedicines')"
   ]
  },
  {
   "cell_type": "code",
   "execution_count": null,
   "id": "c4bfb2b9",
   "metadata": {},
   "outputs": [],
   "source": []
  }
 ],
 "metadata": {
  "kernelspec": {
   "display_name": "Python 3 (ipykernel)",
   "language": "python",
   "name": "python3"
  },
  "language_info": {
   "codemirror_mode": {
    "name": "ipython",
    "version": 3
   },
   "file_extension": ".py",
   "mimetype": "text/x-python",
   "name": "python",
   "nbconvert_exporter": "python",
   "pygments_lexer": "ipython3",
   "version": "3.9.13"
  }
 },
 "nbformat": 4,
 "nbformat_minor": 5
}
